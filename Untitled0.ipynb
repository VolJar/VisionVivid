{
  "nbformat": 4,
  "nbformat_minor": 0,
  "metadata": {
    "colab": {
      "provenance": []
    },
    "kernelspec": {
      "name": "python3",
      "display_name": "Python 3"
    },
    "language_info": {
      "name": "python"
    }
  },
  "cells": [
    {
      "cell_type": "code",
      "execution_count": 2,
      "metadata": {
        "id": "vobWH3QHrgSg"
      },
      "outputs": [],
      "source": [
        "import tensorflow as tf\n",
        "import tensorflow_hub as hub\n",
        "from PIL import Image\n",
        "import numpy as np"
      ]
    },
    {
      "cell_type": "code",
      "source": [
        "image = Image.open('WIN_20240425_09_55_01_Pro.bmp')\n",
        "rgb_image = image.convert('RGB')\n",
        "rgb_image.save('A.png', 'PNG')"
      ],
      "metadata": {
        "id": "kVz-vx_Ssgo7"
      },
      "execution_count": 10,
      "outputs": []
    },
    {
      "cell_type": "code",
      "source": [
        "input_image = \"A.png\"\n",
        "hr_image = tf.io.read_file(input_image)\n",
        "hr_image = tf.image.decode_png(hr_image, channels=3)\n",
        "hr_image = tf.image.convert_image_dtype(hr_image, tf.float32)\n",
        "image = tf.expand_dims(hr_image, 0)\n",
        "model = hub.load(\"https://tfhub.dev/captain-pool/esrgan-tf2/1\")\n",
        "super_resolution = model(image)"
      ],
      "metadata": {
        "id": "UI21KDYwssrR"
      },
      "execution_count": 11,
      "outputs": []
    },
    {
      "cell_type": "code",
      "source": [
        "output_image = tf.clip_by_value(super_resolution[0], 0, 1)\n",
        "output_image = (output_image * 255).numpy().astype(np.uint8)\n",
        "Image.fromarray(output_image).save(\"./out.jpg\")"
      ],
      "metadata": {
        "id": "zQ85i3wutFxb"
      },
      "execution_count": 12,
      "outputs": []
    }
  ]
}